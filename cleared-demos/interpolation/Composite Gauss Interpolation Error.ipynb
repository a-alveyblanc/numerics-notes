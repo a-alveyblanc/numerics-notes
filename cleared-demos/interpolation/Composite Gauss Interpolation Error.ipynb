{
  "cells": [
    {
      "cell_type": "markdown",
      "metadata": {},
      "source": [
        "# Composite Gauss Interpolation Error\n",
        "\n",
        "Copyright (C) 2020 Andreas Kloeckner\n",
        "\n",
        "<details>\n",
        "<summary>MIT License</summary>\n",
        "Permission is hereby granted, free of charge, to any person obtaining a copy\n",
        "of this software and associated documentation files (the \"Software\"), to deal\n",
        "in the Software without restriction, including without limitation the rights\n",
        "to use, copy, modify, merge, publish, distribute, sublicense, and/or sell\n",
        "copies of the Software, and to permit persons to whom the Software is\n",
        "furnished to do so, subject to the following conditions:\n",
        "\n",
        "The above copyright notice and this permission notice shall be included in\n",
        "all copies or substantial portions of the Software.\n",
        "\n",
        "THE SOFTWARE IS PROVIDED \"AS IS\", WITHOUT WARRANTY OF ANY KIND, EXPRESS OR\n",
        "IMPLIED, INCLUDING BUT NOT LIMITED TO THE WARRANTIES OF MERCHANTABILITY,\n",
        "FITNESS FOR A PARTICULAR PURPOSE AND NONINFRINGEMENT. IN NO EVENT SHALL THE\n",
        "AUTHORS OR COPYRIGHT HOLDERS BE LIABLE FOR ANY CLAIM, DAMAGES OR OTHER\n",
        "LIABILITY, WHETHER IN AN ACTION OF CONTRACT, TORT OR OTHERWISE, ARISING FROM,\n",
        "OUT OF OR IN CONNECTION WITH THE SOFTWARE OR THE USE OR OTHER DEALINGS IN\n",
        "THE SOFTWARE.\n",
        "</details>"
      ]
    },
    {
      "cell_type": "code",
      "execution_count": 8,
      "metadata": {
        "collapsed": false,
        "jupyter": {
          "outputs_hidden": false
        }
      },
      "outputs": [],
      "source": [
        "from __future__ import division\n",
        "import numpy as np\n",
        "import scipy as sp\n",
        "import scipy.special as ss\n",
        "import matplotlib.pyplot as pt\n",
        "import numpy.linalg as la"
      ]
    },
    {
      "cell_type": "code",
      "execution_count": 21,
      "metadata": {
        "collapsed": false,
        "jupyter": {
          "outputs_hidden": false
        }
      },
      "outputs": [],
      "source": [
        "nelements = 5\n",
        "nnodes = 3\n",
        "mesh = np.linspace(-1, 1, nelements+1, endpoint=True)\n",
        "gauss_nodes = ss.legendre(nnodes).weights[:, 0]*0.5 + 0.5\n",
        "\n",
        "widths = np.diff(mesh)\n",
        "nodes = mesh[:-1, np.newaxis] + widths[:, np.newaxis] * gauss_nodes"
      ]
    },
    {
      "cell_type": "code",
      "execution_count": 22,
      "metadata": {
        "collapsed": false,
        "jupyter": {
          "outputs_hidden": false
        }
      },
      "outputs": [],
      "source": [
        "def f(x):\n",
        "    return np.abs(x-0.123812378)\n",
        "\n",
        "pt.plot(nodes.flat, f(nodes).flat)"
      ]
    },
    {
      "cell_type": "code",
      "execution_count": 23,
      "metadata": {
        "collapsed": false,
        "jupyter": {
          "outputs_hidden": false
        }
      },
      "outputs": [],
      "source": [
        "nmany_nodes = 32\n",
        "\n",
        "many_gauss_nodes = ss.legendre(nmany_nodes).weights[:, 0]*0.5 + 0.5\n",
        "many_nodes = mesh[:-1, np.newaxis] + widths[:, np.newaxis] * many_gauss_nodes\n",
        "\n",
        "def legendre_vdm(nodes, nmodes):\n",
        "    result = np.empty((len(nodes), nmodes))\n",
        "    for i in xrange(nmodes):\n",
        "        result[:, i] = ss.eval_legendre(i, nodes)\n",
        "    return result\n",
        "\n",
        "vdm = legendre_vdm(gauss_nodes, nnodes)\n",
        "many_vdm = legendre_vdm(many_gauss_nodes, nnodes)\n",
        "zero_pad = np.zeros((nmany_nodes, nnodes))\n",
        "zero_pad[:nnodes, :nnodes] = np.eye(nnodes)\n",
        "upterpolate = np.dot(many_vdm, la.inv(vdm))"
      ]
    },
    {
      "cell_type": "code",
      "execution_count": 24,
      "metadata": {
        "collapsed": false,
        "jupyter": {
          "outputs_hidden": false
        }
      },
      "outputs": [],
      "source": [
        "fnodes = f(nodes)\n",
        "fmany_nodes = np.dot(upterpolate, fnodes.T).T\n",
        "pt.plot(many_nodes.flat, fmany_nodes.flat)"
      ]
    },
    {
      "cell_type": "code",
      "execution_count": null,
      "metadata": {
        "collapsed": false,
        "jupyter": {
          "outputs_hidden": false
        }
      },
      "outputs": [],
      "source": []
    }
  ],
  "metadata": {
    "kernelspec": {
      "display_name": "Python 3",
      "language": "python",
      "name": "python3"
    },
    "language_info": {
      "codemirror_mode": {
        "name": "ipython",
        "version": 3
      },
      "file_extension": ".py",
      "mimetype": "text/x-python",
      "name": "python",
      "nbconvert_exporter": "python",
      "pygments_lexer": "ipython3",
      "version": "3.8.3"
    }
  },
  "nbformat": 4,
  "nbformat_minor": 4
}