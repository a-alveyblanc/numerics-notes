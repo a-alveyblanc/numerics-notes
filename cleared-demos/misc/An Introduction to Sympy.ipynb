{
  "cells": [
    {
      "cell_type": "markdown",
      "metadata": {},
      "source": [
        "# An Introduction to Sympy\n",
        "\n",
        "Copyright (C) 2020 Andreas Kloeckner\n",
        "\n",
        "<details>\n",
        "<summary>MIT License</summary>\n",
        "Permission is hereby granted, free of charge, to any person obtaining a copy\n",
        "of this software and associated documentation files (the \"Software\"), to deal\n",
        "in the Software without restriction, including without limitation the rights\n",
        "to use, copy, modify, merge, publish, distribute, sublicense, and/or sell\n",
        "copies of the Software, and to permit persons to whom the Software is\n",
        "furnished to do so, subject to the following conditions:\n",
        "\n",
        "The above copyright notice and this permission notice shall be included in\n",
        "all copies or substantial portions of the Software.\n",
        "\n",
        "THE SOFTWARE IS PROVIDED \"AS IS\", WITHOUT WARRANTY OF ANY KIND, EXPRESS OR\n",
        "IMPLIED, INCLUDING BUT NOT LIMITED TO THE WARRANTIES OF MERCHANTABILITY,\n",
        "FITNESS FOR A PARTICULAR PURPOSE AND NONINFRINGEMENT. IN NO EVENT SHALL THE\n",
        "AUTHORS OR COPYRIGHT HOLDERS BE LIABLE FOR ANY CLAIM, DAMAGES OR OTHER\n",
        "LIABILITY, WHETHER IN AN ACTION OF CONTRACT, TORT OR OTHERWISE, ARISING FROM,\n",
        "OUT OF OR IN CONNECTION WITH THE SOFTWARE OR THE USE OR OTHER DEALINGS IN\n",
        "THE SOFTWARE.\n",
        "</details>"
      ]
    },
    {
      "cell_type": "markdown",
      "metadata": {},
      "source": [
        "Sympy variables are created using unique string identifiers."
      ]
    },
    {
      "cell_type": "code",
      "execution_count": 1,
      "metadata": {},
      "outputs": [],
      "source": [
        "import sympy as sp\n",
        "import numpy as np\n",
        "x = sp.Symbol(\"x\")\n",
        "y = sp.Symbol(\"y\")\n",
        "z = sp.Symbol(\"z\")"
      ]
    },
    {
      "cell_type": "markdown",
      "metadata": {},
      "source": [
        "One can form expression from symbols.\n",
        "Sympy expressions are made up of numbers, symbols, and sympy functions."
      ]
    },
    {
      "cell_type": "code",
      "execution_count": 2,
      "metadata": {},
      "outputs": [],
      "source": [
        "expression = x**2. + y**2. + z ** 2.\n",
        "expression"
      ]
    },
    {
      "cell_type": "markdown",
      "metadata": {},
      "source": [
        "Two expressions may be added together to form a new one."
      ]
    },
    {
      "cell_type": "code",
      "execution_count": 3,
      "metadata": {},
      "outputs": [],
      "source": [
        "other_expression = x**2.\n",
        "expression += other_expression\n",
        "expression"
      ]
    },
    {
      "cell_type": "markdown",
      "metadata": {},
      "source": [
        "One can form sympy `Matrix` objects."
      ]
    },
    {
      "cell_type": "code",
      "execution_count": 4,
      "metadata": {},
      "outputs": [],
      "source": [
        "sp.Matrix([[1,2],[3,4]])"
      ]
    },
    {
      "cell_type": "markdown",
      "metadata": {},
      "source": [
        "An important `Matrix` function is `eye(n)`, which forms a $n \\times n$ identity matrix."
      ]
    },
    {
      "cell_type": "code",
      "execution_count": 5,
      "metadata": {},
      "outputs": [],
      "source": [
        "sp.eye(3)"
      ]
    },
    {
      "cell_type": "markdown",
      "metadata": {},
      "source": [
        "One can stuff expressions into matrices, too."
      ]
    },
    {
      "cell_type": "code",
      "execution_count": 6,
      "metadata": {},
      "outputs": [],
      "source": [
        "# One can stuff expressions into matrices\n",
        "f1 = x**2.+y**2-z**2.\n",
        "f2 = 2*x + y + z\n",
        "function_matrix = sp.Matrix([f1,f2])\n",
        "function_matrix"
      ]
    },
    {
      "cell_type": "markdown",
      "metadata": {},
      "source": [
        "One may compute the Jacobian of vector valued functions, too."
      ]
    },
    {
      "cell_type": "code",
      "execution_count": 7,
      "metadata": {},
      "outputs": [],
      "source": [
        "function_matrix.jacobian([x,y,z]) # pass in a list of Sympy Symbols to take the Jacobian"
      ]
    },
    {
      "cell_type": "markdown",
      "metadata": {},
      "source": [
        "Sympy expressions can be evaluated by passing in a Python dictionary mapping Symbol `Symbol`s to specific values."
      ]
    },
    {
      "cell_type": "code",
      "execution_count": 8,
      "metadata": {},
      "outputs": [],
      "source": [
        "x_val = 1.0\n",
        "y_val = 2.0\n",
        "z_val = 3.0\n",
        "values={\"x\":x_val,\"y\":y_val,\"z\":z_val}\n",
        "f1.subs(values)"
      ]
    },
    {
      "cell_type": "markdown",
      "metadata": {},
      "source": [
        "One can even valuate the Jacobian of functions."
      ]
    },
    {
      "cell_type": "code",
      "execution_count": 9,
      "metadata": {},
      "outputs": [],
      "source": [
        "J_mat = function_matrix.jacobian([x,y,z]).subs(values)\n",
        "J_mat"
      ]
    },
    {
      "cell_type": "markdown",
      "metadata": {},
      "source": [
        "To convert a Sympy `Matrix` into a Numpy array, one may use the following:"
      ]
    },
    {
      "cell_type": "code",
      "execution_count": 10,
      "metadata": {},
      "outputs": [],
      "source": [
        "np.array(J_mat)"
      ]
    },
    {
      "cell_type": "markdown",
      "metadata": {},
      "source": [
        "After evaluating an expression in Sympy, the return type is a `sympy.Float`.\n",
        "However, this is not readily usable by Numpy. Therefore, consider casting `sympy.Float` to a `numpy.float64`."
      ]
    },
    {
      "cell_type": "code",
      "execution_count": 11,
      "metadata": {},
      "outputs": [],
      "source": [
        "J=np.array(J_mat).astype(np.float64)\n",
        "J"
      ]
    },
    {
      "cell_type": "markdown",
      "metadata": {},
      "source": [
        "At this point, one cna do all the usual stuff one would in Numpy."
      ]
    },
    {
      "cell_type": "code",
      "execution_count": 12,
      "metadata": {},
      "outputs": [],
      "source": [
        "J.T@J"
      ]
    },
    {
      "cell_type": "markdown",
      "metadata": {},
      "source": [
        "Symp's `Lambdify` can help increase the speed of Sympy's numerical computations."
      ]
    },
    {
      "cell_type": "code",
      "execution_count": 13,
      "metadata": {},
      "outputs": [],
      "source": [
        "function_matrix.subs(values)"
      ]
    },
    {
      "cell_type": "code",
      "execution_count": 14,
      "metadata": {},
      "outputs": [],
      "source": [
        "from sympy.utilities.lambdify import lambdify\n",
        "array2mat = [{'ImmutableDenseMatrix': np.array}, 'numpy']\n",
        "lam_f_mat = lambdify((x,y,z), function_matrix, modules=array2mat)\n",
        "lam_f_mat(1,2,3)"
      ]
    },
    {
      "cell_type": "markdown",
      "metadata": {},
      "source": [
        "Or if it is more convenient to have the function evaluation occur from a list of some sort, the Python `*` operator on lists can help."
      ]
    },
    {
      "cell_type": "code",
      "execution_count": 15,
      "metadata": {},
      "outputs": [],
      "source": [
        "lam_f_mat(*[1,2,3])"
      ]
    }
  ],
  "metadata": {
    "kernelspec": {
      "display_name": "Python 3",
      "language": "python",
      "name": "python3"
    },
    "language_info": {
      "codemirror_mode": {
        "name": "ipython",
        "version": 3
      },
      "file_extension": ".py",
      "mimetype": "text/x-python",
      "name": "python",
      "nbconvert_exporter": "python",
      "pygments_lexer": "ipython3",
      "version": "3.8.3"
    }
  },
  "nbformat": 4,
  "nbformat_minor": 4
}