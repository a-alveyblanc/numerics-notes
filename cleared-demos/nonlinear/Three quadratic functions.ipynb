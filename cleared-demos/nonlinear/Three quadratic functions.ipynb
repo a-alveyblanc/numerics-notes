{
  "cells": [
    {
      "cell_type": "markdown",
      "metadata": {},
      "source": [
        "# Three Quadratic Functions\n",
        "\n",
        "Copyright (C) 2020 Andreas Kloeckner, 2021 Thomas Golecki\n",
        "\n",
        "<details>\n",
        "<summary>MIT License</summary>\n",
        "Permission is hereby granted, free of charge, to any person obtaining a copy\n",
        "of this software and associated documentation files (the \"Software\"), to deal\n",
        "in the Software without restriction, including without limitation the rights\n",
        "to use, copy, modify, merge, publish, distribute, sublicense, and/or sell\n",
        "copies of the Software, and to permit persons to whom the Software is\n",
        "furnished to do so, subject to the following conditions:\n",
        "\n",
        "The above copyright notice and this permission notice shall be included in\n",
        "all copies or substantial portions of the Software.\n",
        "\n",
        "THE SOFTWARE IS PROVIDED \"AS IS\", WITHOUT WARRANTY OF ANY KIND, EXPRESS OR\n",
        "IMPLIED, INCLUDING BUT NOT LIMITED TO THE WARRANTIES OF MERCHANTABILITY,\n",
        "FITNESS FOR A PARTICULAR PURPOSE AND NONINFRINGEMENT. IN NO EVENT SHALL THE\n",
        "AUTHORS OR COPYRIGHT HOLDERS BE LIABLE FOR ANY CLAIM, DAMAGES OR OTHER\n",
        "LIABILITY, WHETHER IN AN ACTION OF CONTRACT, TORT OR OTHERWISE, ARISING FROM,\n",
        "OUT OF OR IN CONNECTION WITH THE SOFTWARE OR THE USE OR OTHER DEALINGS IN\n",
        "THE SOFTWARE.\n",
        "</details>"
      ]
    },
    {
      "cell_type": "code",
      "execution_count": 10,
      "metadata": {
        "collapsed": false,
        "jupyter": {
          "outputs_hidden": false
        }
      },
      "outputs": [],
      "source": [
        "import numpy as np\n",
        "import matplotlib.pyplot as pt"
      ]
    },
    {
      "cell_type": "markdown",
      "metadata": {},
      "source": [
        "Consider the three equations:\n",
        "\n",
        "$$y=x^2+\\delta$$\n",
        "$$z=x^2-\\delta$$\n",
        "$$y=z^2+\\delta$$"
      ]
    },
    {
      "cell_type": "code",
      "execution_count": 11,
      "metadata": {
        "collapsed": false,
        "jupyter": {
          "outputs_hidden": false
        }
      },
      "outputs": [],
      "source": [
        "delta = 0.5"
      ]
    },
    {
      "cell_type": "code",
      "execution_count": 12,
      "metadata": {
        "collapsed": false,
        "jupyter": {
          "outputs_hidden": false
        }
      },
      "outputs": [],
      "source": [
        "from mpl_toolkits.mplot3d import Axes3D\n",
        "fig = pt.figure()\n",
        "ax = fig.add_subplot(111, projection='3d')\n",
        "\n",
        "res = 10\n",
        "\n",
        "x, z = np.mgrid[-3:3:res*1j,-3:3:res*1j]\n",
        "y = x**2 + delta\n",
        "\n",
        "ax.plot_surface(x, y, z, color=\"red\", cstride=1, rstride=1)\n",
        "\n",
        "if 1:\n",
        "    y, x = np.mgrid[-3:3:res*1j,-3:3:res*1j]\n",
        "    z = x**2 - delta\n",
        "    \n",
        "    ax.plot_surface(x, y, z, color=\"green\", cstride=1, rstride=1)\n",
        "\n",
        "if 0:\n",
        "    x, z = np.mgrid[-3:3:res*1j,-3:3:res*1j]\n",
        "    y = z**2 + delta\n",
        "    \n",
        "    ax.plot_surface(x, y, z, color=\"blue\", cstride=1, rstride=1)"
      ]
    },
    {
      "cell_type": "markdown",
      "metadata": {},
      "source": [
        "### Plotly\n",
        "Try another plotting tool. Needs\n",
        "```\n",
        "pip install plotly\n",
        "jupyter labextension install jupyterlab-plotly\n",
        "```"
      ]
    },
    {
      "cell_type": "code",
      "execution_count": 13,
      "metadata": {},
      "outputs": [],
      "source": [
        "import plotly.graph_objects as go\n",
        "from plotly.subplots import make_subplots"
      ]
    },
    {
      "cell_type": "code",
      "execution_count": 14,
      "metadata": {},
      "outputs": [],
      "source": [
        "res = 10\n",
        "delta = 0.5\n",
        "x, z = np.mgrid[-3:3:res*1j,-3:3:res*1j]\n",
        "y = x**2 + delta\n",
        "\n",
        "\n",
        "fig= go.Figure()\n",
        "#ax.plot_surface(x, y, z, color=\"red\", cstride=1, rstride=1)\n",
        "fig.add_trace(go.Surface(x=x, y=y, z=z, opacity=0.75, showscale=False, surfacecolor=np.ones_like(z),colorscale='reds',showlegend=True))\n",
        "\n",
        "if 1:\n",
        "    y, x = np.mgrid[-3:3:res*1j,-3:3:res*1j]\n",
        "    z = x**2 - delta\n",
        "    \n",
        "    #ax.plot_surface(x, y, z, color=\"green\", cstride=1, rstride=1)\n",
        "    fig.add_trace(go.Surface(x=x, y=y, z=z, opacity=0.75, showscale=False, surfacecolor=np.ones_like(z),colorscale='greens',showlegend=True))\n",
        "\n",
        "if 1:\n",
        "    x, z = np.mgrid[-3:3:res*1j,-3:3:res*1j]\n",
        "    y = z**2 + delta\n",
        "    \n",
        "    #ax.plot_surface(x, y, z, color=\"blue\", cstride=1, rstride=1)\n",
        "    fig.add_trace(go.Surface(x=x, y=y, z=z, opacity=0.75, showscale=False, surfacecolor=np.ones_like(z),colorscale='blues', showlegend=True))\n",
        "fig.show()"
      ]
    },
    {
      "cell_type": "markdown",
      "metadata": {},
      "source": [
        "### Paraview/Vtk\n",
        "\n",
        "Still can't see intersections very well. Need *yet* another plotting tool. :)"
      ]
    },
    {
      "cell_type": "code",
      "execution_count": 22,
      "metadata": {},
      "outputs": [],
      "source": [
        "!rm -f 1.vts 2.vts 3.vts"
      ]
    },
    {
      "cell_type": "code",
      "execution_count": 23,
      "metadata": {},
      "outputs": [],
      "source": [
        "from pyvisfile.vtk import write_structured_grid\n",
        "\n",
        "res = 50\n",
        "\n",
        "x, z = np.mgrid[-3:3:res*1j,-3:3:res*1j]\n",
        "y = x**2 + delta\n",
        "mesh = np.array([x, y, z])\n",
        "\n",
        "write_structured_grid(\"1.vts\", mesh.reshape(3, res, 1, res))\n",
        "\n",
        "# ----------------------------------\n",
        "\n",
        "y, x = np.mgrid[-3:3:res*1j,-3:3:res*1j]\n",
        "z = x**2 - delta\n",
        "mesh = np.array([x, y, z])\n",
        "\n",
        "write_structured_grid(\"2.vts\", mesh.reshape(3, res, res, 1))\n",
        "\n",
        "# ----------------------------------\n",
        "\n",
        "x, z = np.mgrid[-3:3:res*1j,-3:3:res*1j]\n",
        "y = z**2 + delta\n",
        "mesh = np.array([x, y, z])\n",
        "\n",
        "write_structured_grid(\"3.vts\", mesh.reshape(3, res, 1, res))"
      ]
    }
  ],
  "metadata": {
    "kernelspec": {
      "display_name": "Python 3",
      "language": "python",
      "name": "python3"
    },
    "language_info": {
      "codemirror_mode": {
        "name": "ipython",
        "version": 3
      },
      "file_extension": ".py",
      "mimetype": "text/x-python",
      "name": "python",
      "nbconvert_exporter": "python",
      "pygments_lexer": "ipython3",
      "version": "3.9.7"
    }
  },
  "nbformat": 4,
  "nbformat_minor": 4
}