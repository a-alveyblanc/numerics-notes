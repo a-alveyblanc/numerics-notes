{
  "cells": [
    {
      "cell_type": "markdown",
      "id": "8d8e8475",
      "metadata": {},
      "source": [
        "# A Computational Exploration of the Numerical Range\n",
        "\n",
        "(C) 2021 Andreas Kloeckner\n",
        "\n",
        "<details>\n",
        "<summary>MIT License</summary>\n",
        "Permission is hereby granted, free of charge, to any person obtaining a copy of this software and associated documentation files (the \"Software\"), to deal in the Software without restriction, including without limitation the rights to use, copy, modify, merge, publish, distribute, sublicense, and/or sell copies of the Software, and to permit persons to whom the Software is furnished to do so, subject to the following conditions: The above copyright notice and this permission notice shall be included in all copies or substantial portions of the Software.\n",
        "    \n",
        "THE SOFTWARE IS PROVIDED \"AS IS\", WITHOUT WARRANTY OF ANY KIND, EXPRESS OR IMPLIED, INCLUDING BUT NOT LIMITED TO THE WARRANTIES OF MERCHANTABILITY, FITNESS FOR A PARTICULAR PURPOSE AND NONINFRINGEMENT. IN NO EVENT SHALL THE AUTHORS OR COPYRIGHT HOLDERS BE LIABLE FOR ANY CLAIM, DAMAGES OR OTHER LIABILITY, WHETHER IN AN ACTION OF CONTRACT, TORT OR OTHERWISE, ARISING FROM, OUT OF OR IN CONNECTION WITH THE SOFTWARE OR THE USE OR OTHER DEALINGS IN THE SOFTWARE.\n",
        "</details>\n",
        "\n",
        "The *numerical range* (also called the *field of values*) of a matrix is the set of values that the Rayleigh \"quotient\" can assume for vectors of 2-norm 1:\n",
        "\n",
        "$$\\let\\b=\\boldsymbol\\{\\b x^H A \\b x: \\|\\b x\\|_2=1\\}$$\n",
        "\n",
        "$\\b x^H$ denotes the complex conjugate transpose of $\\b x$."
      ]
    },
    {
      "cell_type": "code",
      "execution_count": 1,
      "id": "9a605f72",
      "metadata": {},
      "outputs": [],
      "source": [
        "import numpy as np\n",
        "import numpy.linalg as la\n",
        "import matplotlib.pyplot as plt"
      ]
    },
    {
      "cell_type": "markdown",
      "id": "b129b828",
      "metadata": {},
      "source": [
        "Generate a random $3\\times 3$ matrix and a big bunch of random, complex vectors with 2-norm 1:"
      ]
    },
    {
      "cell_type": "code",
      "execution_count": 21,
      "id": "a739a86e",
      "metadata": {},
      "outputs": [],
      "source": [
        "n = 3\n",
        "np.random.seed(18)\n",
        "A = np.random.randn(n, n)\n",
        "X = np.random.randn(n, 200000) + 1j* np.random.randn(n, 200000)\n",
        "X = X/la.norm(X, 2, axis=0)"
      ]
    },
    {
      "cell_type": "markdown",
      "id": "12ee7b68",
      "metadata": {},
      "source": [
        "In the following plot, the eigenvalues are orange dots, the norm is represented by the black circle. As you can see, it's quite easy to manufacture vectors that produce Rayleigh \"quotients\" bigger than the spectral radius. (but not bigger than the norm!)"
      ]
    },
    {
      "cell_type": "code",
      "execution_count": 22,
      "id": "c8f72f8a",
      "metadata": {},
      "outputs": [],
      "source": [
        "evals = la.eigvals(A)\n",
        "fov = np.einsum(\"ip,ij,jp->p\", X.conj(), A, X)\n",
        "\n",
        "nrm = la.norm(A, 2)\n",
        "plt.gca().set_aspect(\"equal\")\n",
        "plt.plot(fov.real, fov.imag, \"+\")\n",
        "plt.plot(evals.real, evals.imag, \"o\")\n",
        "plt.gca().add_artist(plt.Circle(( 0 , 0), nrm, fill=None)) \n",
        "plt.xlim([-nrm*1.1, nrm*1.1])\n",
        "plt.ylim([-nrm*1.1, nrm*1.1])"
      ]
    },
    {
      "cell_type": "code",
      "execution_count": 11,
      "id": "eca6af1d",
      "metadata": {},
      "outputs": [],
      "source": [
        "np.max(np.abs(evals))"
      ]
    },
    {
      "cell_type": "code",
      "execution_count": 12,
      "id": "47cbca31",
      "metadata": {},
      "outputs": [],
      "source": [
        "la.norm(A, 2)"
      ]
    },
    {
      "cell_type": "code",
      "execution_count": null,
      "id": "dbb55243",
      "metadata": {},
      "outputs": [],
      "source": []
    }
  ],
  "metadata": {
    "kernelspec": {
      "display_name": "Python 3",
      "language": "python",
      "name": "python3"
    },
    "language_info": {
      "codemirror_mode": {
        "name": "ipython",
        "version": 3
      },
      "file_extension": ".py",
      "mimetype": "text/x-python",
      "name": "python",
      "nbconvert_exporter": "python",
      "pygments_lexer": "ipython3",
      "version": "3.9.7"
    }
  },
  "nbformat": 4,
  "nbformat_minor": 5
}