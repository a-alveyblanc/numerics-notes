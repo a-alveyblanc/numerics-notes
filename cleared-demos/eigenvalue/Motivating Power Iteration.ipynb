{
  "cells": [
    {
      "cell_type": "markdown",
      "id": "d533546e-f1f6-402e-91bb-a462d95a817a",
      "metadata": {},
      "source": [
        "# Motivating Power Iteration\n",
        "\n",
        "Copyright (C) 2022 Andreas Kloeckner\n",
        "\n",
        "<details>\n",
        "<summary>MIT License</summary>\n",
        "Permission is hereby granted, free of charge, to any person obtaining a copy\n",
        "of this software and associated documentation files (the \"Software\"), to deal\n",
        "in the Software without restriction, including without limitation the rights\n",
        "to use, copy, modify, merge, publish, distribute, sublicense, and/or sell\n",
        "copies of the Software, and to permit persons to whom the Software is\n",
        "furnished to do so, subject to the following conditions:\n",
        "\n",
        "The above copyright notice and this permission notice shall be included in\n",
        "all copies or substantial portions of the Software.\n",
        "\n",
        "THE SOFTWARE IS PROVIDED \"AS IS\", WITHOUT WARRANTY OF ANY KIND, EXPRESS OR\n",
        "IMPLIED, INCLUDING BUT NOT LIMITED TO THE WARRANTIES OF MERCHANTABILITY,\n",
        "FITNESS FOR A PARTICULAR PURPOSE AND NONINFRINGEMENT. IN NO EVENT SHALL THE\n",
        "AUTHORS OR COPYRIGHT HOLDERS BE LIABLE FOR ANY CLAIM, DAMAGES OR OTHER\n",
        "LIABILITY, WHETHER IN AN ACTION OF CONTRACT, TORT OR OTHERWISE, ARISING FROM,\n",
        "OUT OF OR IN CONNECTION WITH THE SOFTWARE OR THE USE OR OTHER DEALINGS IN\n",
        "THE SOFTWARE.\n",
        "</details>"
      ]
    },
    {
      "cell_type": "code",
      "execution_count": 97,
      "id": "26d91f23-9b11-43cf-a2b8-c40c5696fb49",
      "metadata": {},
      "outputs": [],
      "source": [
        "import numpy as np\n",
        "import numpy.linalg as la\n",
        "\n",
        "np.set_printoptions(linewidth=150, precision=3, suppress=True)"
      ]
    },
    {
      "cell_type": "markdown",
      "id": "24484c0c-4be8-441e-b95f-748fa159c334",
      "metadata": {},
      "source": [
        "Consider a random diagonal matrix $A$ with entries sorted by magnitude:"
      ]
    },
    {
      "cell_type": "code",
      "execution_count": 98,
      "id": "ffff97d2-cda2-4807-bc9e-e086683a940b",
      "metadata": {},
      "outputs": [],
      "source": [
        "n = 10\n",
        "eigvals = np.array(sorted(np.random.randn(n), key=abs, reverse=True))\n",
        "\n",
        "D = np.diag(eigvals)\n",
        "D"
      ]
    },
    {
      "cell_type": "code",
      "execution_count": 99,
      "id": "18805b9b-7ccd-4ddb-af76-0177919abaa5",
      "metadata": {},
      "outputs": [],
      "source": [
        "D @ D @ D"
      ]
    },
    {
      "cell_type": "code",
      "execution_count": 100,
      "id": "f254d976-0fab-44fb-ad1e-5b6275f07899",
      "metadata": {},
      "outputs": [],
      "source": [
        "tmp = D @ D @ D\n",
        "tmp / tmp[0,0]"
      ]
    },
    {
      "cell_type": "code",
      "execution_count": 101,
      "id": "89eb6628-38be-43eb-84f0-8d38458d4bc9",
      "metadata": {},
      "outputs": [],
      "source": [
        "tmp = D @ D @ D @ D @ D @ D @ D @ D @ D @ D @ D @ D\n",
        "tmp / tmp[0,0]"
      ]
    },
    {
      "cell_type": "markdown",
      "id": "bd3dc317-dc03-436e-88ec-efe74355a7fa",
      "metadata": {},
      "source": [
        "This works just as well if the matrix is not diagonalized:"
      ]
    },
    {
      "cell_type": "code",
      "execution_count": 102,
      "id": "902a16d4-23ce-462e-b136-c2f979304fd3",
      "metadata": {},
      "outputs": [],
      "source": [
        "X = np.random.randn(n, n)\n",
        "Xinv = la.inv(X)\n",
        "\n",
        "A = X @ D @ Xinv\n",
        "\n",
        "A"
      ]
    },
    {
      "cell_type": "code",
      "execution_count": 103,
      "id": "c6b53d49-b6bf-4630-a9d2-cdd54c962c91",
      "metadata": {},
      "outputs": [],
      "source": [
        "A @ A @ A"
      ]
    },
    {
      "cell_type": "markdown",
      "id": "40af3beb-ae6d-4e9a-a2fb-207f862ac3ac",
      "metadata": {},
      "source": [
        "At first, it doesn't look like there is much happening, however:"
      ]
    },
    {
      "cell_type": "code",
      "execution_count": 104,
      "id": "bc5a4882-070d-4ca9-8d63-1236f9512169",
      "metadata": {},
      "outputs": [],
      "source": [
        "Apower = A @ A @ A @ A @ A @ A @ A @ A @ A @ A @ A @ A @ A"
      ]
    },
    {
      "cell_type": "code",
      "execution_count": 105,
      "id": "9c26178c-f8b3-457b-b43a-1fa911a9bcf2",
      "metadata": {},
      "outputs": [],
      "source": [
        "tmp = Xinv @ Apower @ X\n",
        "tmp / tmp[0,0]"
      ]
    },
    {
      "cell_type": "markdown",
      "id": "3a78898b-80bd-4882-b982-19bf688ea11e",
      "metadata": {},
      "source": [
        "Let $\\boldsymbol{y} = A^{13} \\boldsymbol{x}$?"
      ]
    },
    {
      "cell_type": "code",
      "execution_count": 106,
      "id": "167a57b4-a5b6-4233-a478-997483505349",
      "metadata": {},
      "outputs": [],
      "source": [
        "x = np.random.randn(n)\n",
        "\n",
        "y = Apower @ x"
      ]
    },
    {
      "cell_type": "markdown",
      "id": "fc528dc3-0d01-4c60-ad45-8a24a943ac2b",
      "metadata": {},
      "source": [
        "Anything special about $\\boldsymbol{y}$?"
      ]
    },
    {
      "cell_type": "code",
      "execution_count": 107,
      "id": "b2c957ae-3fa9-4691-9483-1f83b6783c43",
      "metadata": {},
      "outputs": [],
      "source": []
    },
    {
      "cell_type": "markdown",
      "id": "344755be-980c-43d4-a40b-96758864e7c9",
      "metadata": {},
      "source": [
        "Is there a better way to compute $\\boldsymbol y$?"
      ]
    },
    {
      "cell_type": "code",
      "execution_count": 109,
      "id": "d20375a2-47aa-4de7-8a54-3163d44ddb82",
      "metadata": {},
      "outputs": [],
      "source": []
    },
    {
      "cell_type": "code",
      "execution_count": null,
      "id": "97bf67cf-a63f-4d32-ab59-7b8bf89f3f40",
      "metadata": {},
      "outputs": [],
      "source": []
    }
  ],
  "metadata": {
    "kernelspec": {
      "display_name": "Python 3 (ipykernel)",
      "language": "python",
      "name": "python3"
    },
    "language_info": {
      "codemirror_mode": {
        "name": "ipython",
        "version": 3
      },
      "file_extension": ".py",
      "mimetype": "text/x-python",
      "name": "python",
      "nbconvert_exporter": "python",
      "pygments_lexer": "ipython3",
      "version": "3.10.7"
    }
  },
  "nbformat": 4,
  "nbformat_minor": 5
}