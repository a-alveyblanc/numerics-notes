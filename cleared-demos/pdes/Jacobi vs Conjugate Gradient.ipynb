{
  "cells": [
    {
      "cell_type": "markdown",
      "metadata": {},
      "source": [
        "# Jacobi vs Conjugate Gradient\n",
        "\n",
        "Copyright (C) 2010-2020 Luke Olson<br>\n",
        "Copyright (C) 2020 Andreas Kloeckner\n",
        "\n",
        "<details>\n",
        "<summary>MIT License</summary>\n",
        "Permission is hereby granted, free of charge, to any person obtaining a copy\n",
        "of this software and associated documentation files (the \"Software\"), to deal\n",
        "in the Software without restriction, including without limitation the rights\n",
        "to use, copy, modify, merge, publish, distribute, sublicense, and/or sell\n",
        "copies of the Software, and to permit persons to whom the Software is\n",
        "furnished to do so, subject to the following conditions:\n",
        "\n",
        "The above copyright notice and this permission notice shall be included in\n",
        "all copies or substantial portions of the Software.\n",
        "\n",
        "THE SOFTWARE IS PROVIDED \"AS IS\", WITHOUT WARRANTY OF ANY KIND, EXPRESS OR\n",
        "IMPLIED, INCLUDING BUT NOT LIMITED TO THE WARRANTIES OF MERCHANTABILITY,\n",
        "FITNESS FOR A PARTICULAR PURPOSE AND NONINFRINGEMENT. IN NO EVENT SHALL THE\n",
        "AUTHORS OR COPYRIGHT HOLDERS BE LIABLE FOR ANY CLAIM, DAMAGES OR OTHER\n",
        "LIABILITY, WHETHER IN AN ACTION OF CONTRACT, TORT OR OTHERWISE, ARISING FROM,\n",
        "OUT OF OR IN CONNECTION WITH THE SOFTWARE OR THE USE OR OTHER DEALINGS IN\n",
        "THE SOFTWARE.\n",
        "</details>\n"
      ]
    },
    {
      "cell_type": "markdown",
      "metadata": {},
      "source": [
        "Let's consider solving the discretized 2D Poisson equation with iterative methods. "
      ]
    },
    {
      "cell_type": "code",
      "execution_count": 1,
      "metadata": {
        "collapsed": true,
        "jupyter": {
          "outputs_hidden": true
        }
      },
      "outputs": [],
      "source": [
        "import numpy as np\n",
        "import numpy.linalg as la\n",
        "from matplotlib import pyplot as pt"
      ]
    },
    {
      "cell_type": "code",
      "execution_count": 2,
      "metadata": {},
      "outputs": [],
      "source": [
        "n=16\n",
        "T = 2*np.eye(n)-np.diag(np.ones(n-1),1)-np.diag(np.ones(n-1),-1)\n",
        "A = np.kron(np.eye(n),T)+np.kron(T,np.eye(n))\n",
        "pt.spy(A)"
      ]
    },
    {
      "cell_type": "markdown",
      "metadata": {},
      "source": [
        "Define a right-hand side and solve the resulting system directly."
      ]
    },
    {
      "cell_type": "code",
      "execution_count": 3,
      "metadata": {
        "collapsed": true,
        "jupyter": {
          "outputs_hidden": true
        }
      },
      "outputs": [],
      "source": [
        "h = 1/(n-1)\n",
        "b = h*np.arange(0,n*n)\n",
        "x = la.solve(A,b)"
      ]
    },
    {
      "cell_type": "markdown",
      "metadata": {},
      "source": [
        "Split the matrix into its diagonal and strictly lower/upper triangular parts."
      ]
    },
    {
      "cell_type": "code",
      "execution_count": 4,
      "metadata": {},
      "outputs": [],
      "source": [
        "d = np.diag(A)\n",
        "D = np.diag(d)\n",
        "L = np.tril(A,-1)\n",
        "U = np.triu(A,1)\n",
        "la.norm(A-(D+L+U))"
      ]
    },
    {
      "cell_type": "markdown",
      "metadata": {},
      "source": [
        "Jacobi iteration proceeds using \n",
        "$$\\boldsymbol x^{(i+1)} = \\boldsymbol D^{-1}(\\boldsymbol b- (\\boldsymbol L+\\boldsymbol U)\\boldsymbol x^{(i)}).$$"
      ]
    },
    {
      "cell_type": "code",
      "execution_count": 10,
      "metadata": {},
      "outputs": [],
      "source": [
        "def jacobi(niter,x0):\n",
        "    xi = x0\n",
        "    for i in range(niter):\n",
        "        xi = np.diag(1./d)@(b-(L+U)@xi)\n",
        "    return xi\n",
        "\n",
        "niters = np.asarray(2**np.arange(4,12),dtype=int)\n",
        "\n",
        "x0 = np.random.random(n*n)\n",
        "\n",
        "jacobi_results = []\n",
        "err = []\n",
        "\n",
        "for niter in niters:\n",
        "    jacobi_results.append(jacobi(niter,x0.copy()))\n",
        "    err.append(la.norm(jacobi_results[-1]-x))\n",
        "\n",
        "pt.plot(niters,err)\n",
        "pt.yscale('log')\n",
        "pt.xscale('log')"
      ]
    },
    {
      "cell_type": "code",
      "execution_count": 16,
      "metadata": {},
      "outputs": [],
      "source": [
        "def cg(A,b,niter,x0):\n",
        "    rk = b - A @ x0\n",
        "    sk = rk\n",
        "    xk = x0\n",
        "    for i in range(niter):\n",
        "        alpha = np.inner(rk,rk)/np.inner(sk, A @ sk)\n",
        "        xk1 = xk + alpha * sk\n",
        "        rk1 = rk - alpha * A @ sk\n",
        "        beta = np.inner(rk1,rk1)/np.inner(rk,rk)\n",
        "        sk1 = rk1 + beta*sk\n",
        "        rk = rk1\n",
        "        xk = xk1\n",
        "        sk = sk1\n",
        "    return xk\n",
        "\n",
        "iters = np.asarray(2**np.arange(2,7),dtype=int)\n",
        "\n",
        "x0 = np.random.random(n*n)\n",
        "\n",
        "cg_results = []\n",
        "err = []\n",
        "\n",
        "for niter in iters:\n",
        "    cg_results.append(cg(A,b,niter,x0.copy()))\n",
        "    err.append(la.norm(cg_results[-1]-x))\n",
        "\n",
        "pt.plot(iters,err)\n",
        "pt.yscale('log')\n",
        "pt.xscale('log')"
      ]
    },
    {
      "cell_type": "code",
      "execution_count": null,
      "metadata": {
        "collapsed": true,
        "jupyter": {
          "outputs_hidden": true
        }
      },
      "outputs": [],
      "source": []
    }
  ],
  "metadata": {
    "kernelspec": {
      "display_name": "Python 3",
      "language": "python",
      "name": "python3"
    },
    "language_info": {
      "codemirror_mode": {
        "name": "ipython",
        "version": 3
      },
      "file_extension": ".py",
      "mimetype": "text/x-python",
      "name": "python",
      "nbconvert_exporter": "python",
      "pygments_lexer": "ipython3",
      "version": "3.8.3"
    }
  },
  "nbformat": 4,
  "nbformat_minor": 4
}