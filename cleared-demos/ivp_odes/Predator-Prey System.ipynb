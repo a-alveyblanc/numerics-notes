{
  "cells": [
    {
      "cell_type": "markdown",
      "id": "f843b3ce-0db4-430f-8521-6cef2443706d",
      "metadata": {},
      "source": [
        "# Predator-Prey System\n",
        "\n",
        "Copyright (C) 2020 Andreas Kloeckner\n",
        "\n",
        "<details>\n",
        "<summary>MIT License</summary>\n",
        "Permission is hereby granted, free of charge, to any person obtaining a copy\n",
        "of this software and associated documentation files (the \"Software\"), to deal\n",
        "in the Software without restriction, including without limitation the rights\n",
        "to use, copy, modify, merge, publish, distribute, sublicense, and/or sell\n",
        "copies of the Software, and to permit persons to whom the Software is\n",
        "furnished to do so, subject to the following conditions:\n",
        "\n",
        "The above copyright notice and this permission notice shall be included in\n",
        "all copies or substantial portions of the Software.\n",
        "\n",
        "THE SOFTWARE IS PROVIDED \"AS IS\", WITHOUT WARRANTY OF ANY KIND, EXPRESS OR\n",
        "IMPLIED, INCLUDING BUT NOT LIMITED TO THE WARRANTIES OF MERCHANTABILITY,\n",
        "FITNESS FOR A PARTICULAR PURPOSE AND NONINFRINGEMENT. IN NO EVENT SHALL THE\n",
        "AUTHORS OR COPYRIGHT HOLDERS BE LIABLE FOR ANY CLAIM, DAMAGES OR OTHER\n",
        "LIABILITY, WHETHER IN AN ACTION OF CONTRACT, TORT OR OTHERWISE, ARISING FROM,\n",
        "OUT OF OR IN CONNECTION WITH THE SOFTWARE OR THE USE OR OTHER DEALINGS IN\n",
        "THE SOFTWARE.\n",
        "</details>"
      ]
    },
    {
      "cell_type": "code",
      "execution_count": 11,
      "id": "1a925387-712f-4a40-b80d-4dcbd4b48463",
      "metadata": {},
      "outputs": [],
      "source": [
        "import numpy as np\n",
        "import matplotlib.pyplot as plt"
      ]
    },
    {
      "cell_type": "markdown",
      "id": "07d265f5-066f-4138-a269-881a21cf5747",
      "metadata": {},
      "source": [
        "This is the \"right-hand side\" of the [Lotka-Volterra predator-prey system](https://en.wikipedia.org/wiki/Lotka%E2%80%93Volterra_equations)\n",
        "$$\\begin{align*}\n",
        "y_1' &= y_1 (\\alpha _1 - \\beta _1 y_2)\\\\\n",
        "y_2' &= y_2 (- \\alpha _2 + \\beta _2 y_1)\n",
        "\\end{align*}$$\n",
        "written in vector form, with somewhat arbitrarily chosen coefficients:"
      ]
    },
    {
      "cell_type": "code",
      "execution_count": 7,
      "id": "b31ce9c7-5f92-48f7-92b7-ad3482912620",
      "metadata": {},
      "outputs": [],
      "source": [
        "alpha1 = 0.5\n",
        "beta1 = 0.5\n",
        "alpha2 = 0.5\n",
        "beta2 = 0.5\n",
        "\n",
        "def predator_prey_rhs(t, y):\n",
        "    y1, y2 = y\n",
        "    return np.array([\n",
        "        y1*(alpha1-beta1*y2),\n",
        "        y2*(-alpha2+beta2*y1)\n",
        "    ])"
      ]
    },
    {
      "cell_type": "markdown",
      "id": "4747691d-946d-4836-9f6b-ade121ab7c07",
      "metadata": {},
      "source": [
        "We will integrate this with the help of the fourth-order Runge-Kutta method, which we will meet in more detail later in the chapter:"
      ]
    },
    {
      "cell_type": "code",
      "execution_count": 2,
      "id": "ef67f091-894c-4580-bb43-eb1d2ff591a9",
      "metadata": {},
      "outputs": [],
      "source": [
        "def rk4_step(y, t, h, f):\n",
        "    k1 = f(t, y)\n",
        "    k2 = f(t+h/2, y + h/2*k1)\n",
        "    k3 = f(t+h/2, y + h/2*k2)\n",
        "    k4 = f(t+h, y + h*k3)\n",
        "    return y + h/6*(k1 + 2*k2 + 2*k3 + k4)"
      ]
    },
    {
      "cell_type": "markdown",
      "id": "8a2d5442-f7f0-42d1-9438-1810644fe4ca",
      "metadata": {},
      "source": [
        "Next, integrate the IVP for some time:"
      ]
    },
    {
      "cell_type": "code",
      "execution_count": 13,
      "id": "d0e91b82-cdcf-415b-a4a2-61570992e24f",
      "metadata": {},
      "outputs": [],
      "source": [
        "times = [0]\n",
        "ys = [np.array([0.1, 0.9])]\n",
        "\n",
        "dt = 0.1\n",
        "\n",
        "while times[-1] < 100:\n",
        "    y = ys[-1]\n",
        "    ynext = rk4_step(y, times[0], dt, predator_prey_rhs)\n",
        "    ys.append(ynext)\n",
        "    times.append(times[-1] + dt)\n",
        "\n",
        "ys = np.array(ys)\n",
        "times = np.array(times)"
      ]
    },
    {
      "cell_type": "markdown",
      "id": "54147b6c-ce23-4d9c-9a0b-204c0ac127d4",
      "metadata": {},
      "source": [
        "Lastly, plot the result:"
      ]
    },
    {
      "cell_type": "code",
      "execution_count": 14,
      "id": "6fe90e5a-10d7-4886-bc24-b04950c177b9",
      "metadata": {},
      "outputs": [],
      "source": [
        "plt.plot(times, ys[:, 0], label=\"Prey\")\n",
        "plt.plot(times, ys[:, 1], label=\"Predator\")"
      ]
    },
    {
      "cell_type": "code",
      "execution_count": null,
      "id": "b6e14f2e-aa3e-4403-98eb-007390a00e56",
      "metadata": {},
      "outputs": [],
      "source": []
    }
  ],
  "metadata": {
    "kernelspec": {
      "display_name": "Python 3 (ipykernel)",
      "language": "python",
      "name": "python3"
    },
    "language_info": {
      "codemirror_mode": {
        "name": "ipython",
        "version": 3
      },
      "file_extension": ".py",
      "mimetype": "text/x-python",
      "name": "python",
      "nbconvert_exporter": "python",
      "pygments_lexer": "ipython3",
      "version": "3.10.0+"
    }
  },
  "nbformat": 4,
  "nbformat_minor": 5
}