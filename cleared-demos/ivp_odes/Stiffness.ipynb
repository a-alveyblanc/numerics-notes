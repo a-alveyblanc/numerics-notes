{
  "cells": [
    {
      "cell_type": "markdown",
      "metadata": {},
      "source": [
        "# Stiffness in Initial Value Problems\n",
        "\n",
        "Copyright (C) 2020 Andreas Kloeckner\n",
        "\n",
        "<details>\n",
        "<summary>MIT License</summary>\n",
        "Permission is hereby granted, free of charge, to any person obtaining a copy\n",
        "of this software and associated documentation files (the \"Software\"), to deal\n",
        "in the Software without restriction, including without limitation the rights\n",
        "to use, copy, modify, merge, publish, distribute, sublicense, and/or sell\n",
        "copies of the Software, and to permit persons to whom the Software is\n",
        "furnished to do so, subject to the following conditions:\n",
        "\n",
        "The above copyright notice and this permission notice shall be included in\n",
        "all copies or substantial portions of the Software.\n",
        "\n",
        "THE SOFTWARE IS PROVIDED \"AS IS\", WITHOUT WARRANTY OF ANY KIND, EXPRESS OR\n",
        "IMPLIED, INCLUDING BUT NOT LIMITED TO THE WARRANTIES OF MERCHANTABILITY,\n",
        "FITNESS FOR A PARTICULAR PURPOSE AND NONINFRINGEMENT. IN NO EVENT SHALL THE\n",
        "AUTHORS OR COPYRIGHT HOLDERS BE LIABLE FOR ANY CLAIM, DAMAGES OR OTHER\n",
        "LIABILITY, WHETHER IN AN ACTION OF CONTRACT, TORT OR OTHERWISE, ARISING FROM,\n",
        "OUT OF OR IN CONNECTION WITH THE SOFTWARE OR THE USE OR OTHER DEALINGS IN\n",
        "THE SOFTWARE.\n",
        "</details>"
      ]
    },
    {
      "cell_type": "code",
      "execution_count": 1,
      "metadata": {
        "collapsed": false,
        "jupyter": {
          "outputs_hidden": false
        }
      },
      "outputs": [],
      "source": [
        "import numpy as np\n",
        "import matplotlib.pyplot as pt"
      ]
    },
    {
      "cell_type": "markdown",
      "metadata": {},
      "source": [
        "Consider $y'=-100y+100t + 101$.\n",
        "\n",
        "Exact solution: $y(t)=1+t+ce^{-100t}$.\n",
        "\n",
        "Exact solution derivative: $y'(t)=1-100ce^{-100t}$."
      ]
    },
    {
      "cell_type": "code",
      "execution_count": 2,
      "metadata": {
        "collapsed": false,
        "jupyter": {
          "outputs_hidden": false
        }
      },
      "outputs": [],
      "source": [
        "def f(t, y):\n",
        "    return -100*y+100*t + 101"
      ]
    },
    {
      "cell_type": "code",
      "execution_count": 3,
      "metadata": {
        "collapsed": false,
        "jupyter": {
          "outputs_hidden": false
        }
      },
      "outputs": [],
      "source": [
        "t_end = 0.2\n",
        "\n",
        "def plot_solution(t0, y0):\n",
        "    c = (y0-1-t0)/np.exp(-100*t0)\n",
        "    t_mesh = np.linspace(t0, t_end, 1000)\n",
        "    solution = 1+t_mesh+c*np.exp(-100*t_mesh)\n",
        "    \n",
        "    pt.plot(t_mesh, solution, label=\"exact\")\n",
        "    pt.plot(t0, y0, \"ko\")"
      ]
    },
    {
      "cell_type": "code",
      "execution_count": 4,
      "metadata": {
        "collapsed": false,
        "jupyter": {
          "outputs_hidden": false
        }
      },
      "outputs": [],
      "source": [
        "plot_solution(t0=0, y0=1)\n",
        "plot_solution(t0=0, y0=1.2)\n",
        "plot_solution(t0=0, y0=-0.5)\n",
        "plot_solution(t0=0.05, y0=-0.5)"
      ]
    },
    {
      "cell_type": "markdown",
      "metadata": {},
      "source": [
        "Here's a helper function that uses a time stepper in the form of a `step_function` to numerically solve an ODE and plot the numerical solution:"
      ]
    },
    {
      "cell_type": "code",
      "execution_count": 38,
      "metadata": {
        "collapsed": false,
        "jupyter": {
          "outputs_hidden": false
        }
      },
      "outputs": [],
      "source": [
        "def integrate_ode(step_function, t0, y0, h):\n",
        "    times = [t0]\n",
        "    ys = [y0]\n",
        "\n",
        "    while times[-1] <= t_end + 1e-14:\n",
        "        t = times[-1]\n",
        "        ys.append(step_function(t, ys[-1], h))\n",
        "        times.append(t + h)\n",
        "\n",
        "    pt.plot(times, ys, label=step_function.__name__)\n",
        "    pt.xlim([t0, t_end])\n",
        "    pt.ylim([-1, 2])\n",
        "    pt.legend(loc=\"best\")"
      ]
    },
    {
      "cell_type": "markdown",
      "metadata": {},
      "source": [
        "## Using an Explicit Method"
      ]
    },
    {
      "cell_type": "markdown",
      "metadata": {},
      "source": [
        "First, implement `forward_euler_step(tk, yk, h)`:"
      ]
    },
    {
      "cell_type": "code",
      "execution_count": 44,
      "metadata": {
        "collapsed": false,
        "jupyter": {
          "outputs_hidden": false
        }
      },
      "outputs": [],
      "source": []
    },
    {
      "cell_type": "code",
      "execution_count": 45,
      "metadata": {
        "collapsed": false,
        "jupyter": {
          "outputs_hidden": false
        }
      },
      "outputs": [],
      "source": [
        "t0 = 0.05\n",
        "y0 = -0.5\n",
        "h = 0.008  # start this at 0.001, then grow\n",
        "\n",
        "plot_solution(t0=t0, y0=y0)\n",
        "integrate_ode(forward_euler_step, t0=t0, y0=y0, h=h)"
      ]
    },
    {
      "cell_type": "markdown",
      "metadata": {},
      "source": [
        "* What's the main challenge here?"
      ]
    },
    {
      "cell_type": "markdown",
      "metadata": {},
      "source": [
        "## Using an Implicit Method"
      ]
    },
    {
      "cell_type": "markdown",
      "metadata": {},
      "source": [
        "Next, implement `backward_euler_step(tk, yk, h)`:"
      ]
    },
    {
      "cell_type": "code",
      "execution_count": 46,
      "metadata": {
        "collapsed": true,
        "jupyter": {
          "outputs_hidden": true
        }
      },
      "outputs": [],
      "source": []
    },
    {
      "cell_type": "code",
      "execution_count": 48,
      "metadata": {
        "collapsed": false,
        "jupyter": {
          "outputs_hidden": false
        }
      },
      "outputs": [],
      "source": [
        "t0 = 0.05\n",
        "y0 = -0.5\n",
        "h = 0.05  # start this at 0.001, then grow\n",
        "\n",
        "plot_solution(t0=t0, y0=y0)\n",
        "integrate_ode(backward_euler_step, t0=t0, y0=y0, h=h)\n",
        "pt.xlim([t0, t_end])\n",
        "pt.ylim([-1, 2])\n",
        "pt.legend()"
      ]
    },
    {
      "cell_type": "code",
      "execution_count": null,
      "metadata": {
        "collapsed": true,
        "jupyter": {
          "outputs_hidden": true
        }
      },
      "outputs": [],
      "source": []
    }
  ],
  "metadata": {
    "kernelspec": {
      "display_name": "Python 3",
      "language": "python",
      "name": "python3"
    },
    "language_info": {
      "codemirror_mode": {
        "name": "ipython",
        "version": 3
      },
      "file_extension": ".py",
      "mimetype": "text/x-python",
      "name": "python",
      "nbconvert_exporter": "python",
      "pygments_lexer": "ipython3",
      "version": "3.8.3"
    }
  },
  "nbformat": 4,
  "nbformat_minor": 4
}