{
  "cells": [
    {
      "cell_type": "markdown",
      "metadata": {},
      "source": [
        "# Plotting Approximate Stability Regions\n",
        "\n",
        "Copyright (C) 2020 Andreas Kloeckner\n",
        "\n",
        "<details>\n",
        "<summary>MIT License</summary>\n",
        "Permission is hereby granted, free of charge, to any person obtaining a copy\n",
        "of this software and associated documentation files (the \"Software\"), to deal\n",
        "in the Software without restriction, including without limitation the rights\n",
        "to use, copy, modify, merge, publish, distribute, sublicense, and/or sell\n",
        "copies of the Software, and to permit persons to whom the Software is\n",
        "furnished to do so, subject to the following conditions:\n",
        "\n",
        "The above copyright notice and this permission notice shall be included in\n",
        "all copies or substantial portions of the Software.\n",
        "\n",
        "THE SOFTWARE IS PROVIDED \"AS IS\", WITHOUT WARRANTY OF ANY KIND, EXPRESS OR\n",
        "IMPLIED, INCLUDING BUT NOT LIMITED TO THE WARRANTIES OF MERCHANTABILITY,\n",
        "FITNESS FOR A PARTICULAR PURPOSE AND NONINFRINGEMENT. IN NO EVENT SHALL THE\n",
        "AUTHORS OR COPYRIGHT HOLDERS BE LIABLE FOR ANY CLAIM, DAMAGES OR OTHER\n",
        "LIABILITY, WHETHER IN AN ACTION OF CONTRACT, TORT OR OTHERWISE, ARISING FROM,\n",
        "OUT OF OR IN CONNECTION WITH THE SOFTWARE OR THE USE OR OTHER DEALINGS IN\n",
        "THE SOFTWARE.\n",
        "</details>"
      ]
    },
    {
      "cell_type": "code",
      "execution_count": 1,
      "metadata": {
        "collapsed": false,
        "jupyter": {
          "outputs_hidden": false
        }
      },
      "outputs": [],
      "source": [
        "import numpy as np\n",
        "import matplotlib.pyplot as pt\n",
        "\n",
        "from cmath import exp, pi"
      ]
    },
    {
      "cell_type": "code",
      "execution_count": 2,
      "metadata": {
        "collapsed": false,
        "jupyter": {
          "outputs_hidden": false
        }
      },
      "outputs": [],
      "source": [
        "def approximate_stability_region_1d(step_function, make_k, prec=1e-5):\n",
        "    def is_stable(k):\n",
        "        y = 1\n",
        "        for i in range(20):\n",
        "            if abs(y) > 2:\n",
        "                return False\n",
        "            y = step_function(y, i, 1, lambda t, y: k*y)\n",
        "        return True\n",
        "    \n",
        "    def refine(stable, unstable):\n",
        "        assert is_stable(make_k(stable))\n",
        "        assert not is_stable(make_k(unstable))\n",
        "        while abs(stable-unstable) > prec:\n",
        "            mid = (stable+unstable)/2\n",
        "            if is_stable(make_k(mid)):\n",
        "                stable = mid\n",
        "            else:\n",
        "                unstable = mid\n",
        "        else:\n",
        "            return stable\n",
        "\n",
        "    mag = 1\n",
        "    if is_stable(make_k(mag)):\n",
        "        mag *= 2\n",
        "        while is_stable(make_k(mag)):\n",
        "            mag *= 2\n",
        "\n",
        "            if mag > 2**8:\n",
        "                return mag\n",
        "        return refine(mag/2, mag)\n",
        "    else:\n",
        "        mag /= 2\n",
        "        while not is_stable(make_k(mag)):\n",
        "            mag /= 2\n",
        "\n",
        "            if mag < prec:\n",
        "                return mag\n",
        "        return refine(mag, mag*2)"
      ]
    },
    {
      "cell_type": "code",
      "execution_count": 3,
      "metadata": {
        "collapsed": false,
        "jupyter": {
          "outputs_hidden": false
        }
      },
      "outputs": [],
      "source": [
        "def plot_stability_region(center, stepper):\n",
        "    def make_k(mag):\n",
        "        return center+mag*exp(1j*angle)\n",
        "\n",
        "    stab_boundary = []\n",
        "    for angle in np.linspace(0, 2*np.pi, 100):\n",
        "        stable_mag = approximate_stability_region_1d(stepper, make_k)\n",
        "        stab_boundary.append(make_k(stable_mag))\n",
        "        \n",
        "    stab_boundary = np.array(stab_boundary)\n",
        "    pt.grid()\n",
        "    pt.axis(\"equal\")\n",
        "    pt.plot(stab_boundary.real, stab_boundary.imag)"
      ]
    },
    {
      "cell_type": "code",
      "execution_count": 4,
      "metadata": {
        "collapsed": false,
        "jupyter": {
          "outputs_hidden": false
        }
      },
      "outputs": [],
      "source": [
        "def fw_euler_step(y, t, h, f):\n",
        "    return y + h * f(t, y)\n",
        "\n",
        "plot_stability_region(-1, fw_euler_step)"
      ]
    },
    {
      "cell_type": "code",
      "execution_count": 5,
      "metadata": {
        "collapsed": false,
        "jupyter": {
          "outputs_hidden": false
        }
      },
      "outputs": [],
      "source": [
        "def heun_step(y, t, h, f):\n",
        "    yp1_fw_euler =  y + h * f(t, y)\n",
        "    return y + 0.5*h*(f(t, y) + f(t+h, yp1_fw_euler))\n",
        "\n",
        "plot_stability_region(-1, heun_step)"
      ]
    },
    {
      "cell_type": "code",
      "execution_count": 6,
      "metadata": {
        "collapsed": false,
        "jupyter": {
          "outputs_hidden": false
        }
      },
      "outputs": [],
      "source": [
        "def rk4_step(y, t, h, f):\n",
        "    k1 = f(t, y)\n",
        "    k2 = f(t+h/2, y + h/2*k1)\n",
        "    k3 = f(t+h/2, y + h/2*k2)\n",
        "    k4 = f(t+h, y + h*k3)\n",
        "    return y + h/6*(k1 + 2*k2 + 2*k3 + k4)\n",
        "\n",
        "plot_stability_region(-1, rk4_step)"
      ]
    },
    {
      "cell_type": "code",
      "execution_count": null,
      "metadata": {
        "collapsed": false,
        "jupyter": {
          "outputs_hidden": false
        }
      },
      "outputs": [],
      "source": []
    }
  ],
  "metadata": {
    "kernelspec": {
      "display_name": "Python 3",
      "language": "python",
      "name": "python3"
    },
    "language_info": {
      "codemirror_mode": {
        "name": "ipython",
        "version": 3
      },
      "file_extension": ".py",
      "mimetype": "text/x-python",
      "name": "python",
      "nbconvert_exporter": "python",
      "pygments_lexer": "ipython3",
      "version": "3.8.3"
    }
  },
  "nbformat": 4,
  "nbformat_minor": 4
}