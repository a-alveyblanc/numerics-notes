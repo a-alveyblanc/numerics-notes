{
  "cells": [
    {
      "cell_type": "markdown",
      "metadata": {},
      "source": [
        "# Nelder-Mead Method\n",
        "\n",
        "Copyright (C) 2022 Fran\u00e7ois Chollet, derived from [this code](https://github.com/fchollet/nelder-mead/blob/c3022410201c9e09d9fbb091c2f458c7126ec610/nelder_mead.py)<br>\n",
        "Copyright (C) 2022 Andreas Kloeckner\n",
        "\n",
        "<details>\n",
        "<summary>Licensed under the GNU General Public License Version 2</summary>\n",
        "</details>\n",
        "\n",
        "Resources:\n",
        "- [Nelder-Mead method](https://en.wikipedia.org/wiki/Nelder\u2013Mead_method) (Wikipedia)"
      ]
    },
    {
      "cell_type": "code",
      "execution_count": 111,
      "metadata": {},
      "outputs": [],
      "source": [
        "import numpy as np\n",
        "import matplotlib.pyplot as plt\n",
        "import copy"
      ]
    },
    {
      "cell_type": "markdown",
      "metadata": {},
      "source": [
        "This is a challenge problem for optimization algorithms known as [Rosenbrock's banana function](https://en.wikipedia.org/wiki/Rosenbrock_function)."
      ]
    },
    {
      "cell_type": "code",
      "execution_count": 112,
      "metadata": {},
      "outputs": [],
      "source": [
        "def f(X):\n",
        "    x = X[0]\n",
        "    y = X[1]\n",
        "    val = 100.0 * (y - x**2)**2 + (1.0 - x)**2\n",
        "    return val"
      ]
    },
    {
      "cell_type": "code",
      "execution_count": 113,
      "metadata": {},
      "outputs": [],
      "source": [
        "fig = plt.figure(figsize=(6, 6))\n",
        "\n",
        "xmesh, ymesh = np.mgrid[-2:2:50j,-2:2:50j]\n",
        "fmesh = f(np.array([xmesh, ymesh]))\n",
        "\n",
        "plt.axis(\"equal\")\n",
        "plt.contour(xmesh, ymesh, fmesh, 150)"
      ]
    },
    {
      "cell_type": "markdown",
      "metadata": {},
      "source": [
        "Set the starting guess:"
      ]
    },
    {
      "cell_type": "code",
      "execution_count": 114,
      "metadata": {},
      "outputs": [],
      "source": [
        "x_start = np.array([2, 2./5])"
      ]
    },
    {
      "cell_type": "markdown",
      "metadata": {},
      "source": [
        "Set some parameters:"
      ]
    },
    {
      "cell_type": "code",
      "execution_count": 115,
      "metadata": {},
      "outputs": [],
      "source": [
        "step = 0.1\n",
        "alpha = 1.\n",
        "gamma = 2.\n",
        "rho = -0.5\n",
        "sigma = 0.5"
      ]
    },
    {
      "cell_type": "markdown",
      "metadata": {},
      "source": [
        "Some initialization:"
      ]
    },
    {
      "cell_type": "code",
      "execution_count": 116,
      "metadata": {},
      "outputs": [],
      "source": [
        "dim = len(x_start)\n",
        "prev_best = f(x_start)\n",
        "no_improv = 0\n",
        "res = [[x_start, prev_best]]\n",
        "\n",
        "for i in range(dim):\n",
        "    x = copy.copy(x_start)\n",
        "    x[i] = x[i] + step\n",
        "    score = f(x)\n",
        "    res.append([x, score])"
      ]
    },
    {
      "cell_type": "markdown",
      "metadata": {},
      "source": [
        "And the iteration:"
      ]
    },
    {
      "cell_type": "code",
      "execution_count": 117,
      "metadata": {},
      "outputs": [],
      "source": [
        "def iteration(res):\n",
        "    res = res[:]\n",
        "    \n",
        "    # order\n",
        "    res.sort(key=lambda x: x[1])\n",
        "    best = res[0][1]\n",
        "\n",
        "    # centroid\n",
        "    x0 = [0.] * dim\n",
        "    for tup in res[:-1]:\n",
        "        for i, c in enumerate(tup[0]):\n",
        "            x0[i] += c / (len(res)-1)\n",
        "\n",
        "    # reflection\n",
        "    xr = x0 + alpha*(x0 - res[-1][0])\n",
        "    rscore = f(xr)\n",
        "    if res[0][1] <= rscore < res[-2][1]:\n",
        "        del res[-1]\n",
        "        res.append([xr, rscore])\n",
        "        return res\n",
        "\n",
        "    # expansion\n",
        "    if rscore < res[0][1]:\n",
        "        xe = x0 + gamma*(x0 - res[-1][0])\n",
        "        escore = f(xe)\n",
        "        if escore < rscore:\n",
        "            del res[-1]\n",
        "            res.append([xe, escore])\n",
        "            return res\n",
        "        else:\n",
        "            del res[-1]\n",
        "            res.append([xr, rscore])\n",
        "            return res\n",
        "\n",
        "    # contraction\n",
        "    xc = x0 + rho*(x0 - res[-1][0])\n",
        "    cscore = f(xc)\n",
        "    if cscore < res[-1][1]:\n",
        "        del res[-1]\n",
        "        res.append([xc, cscore])\n",
        "        return res\n",
        "\n",
        "    # reduction\n",
        "    x1 = res[0][0]\n",
        "    nres = []\n",
        "    for tup in res:\n",
        "        redx = x1 + sigma*(tup[0] - x1)\n",
        "        score = f(redx)\n",
        "        nres.append([redx, score])\n",
        "    return nres"
      ]
    },
    {
      "cell_type": "code",
      "execution_count": 120,
      "metadata": {},
      "outputs": [],
      "source": [
        "res = iteration(res)\n",
        "\n",
        "fig = plt.figure(figsize=(9, 9))\n",
        "\n",
        "xmesh, ymesh = np.mgrid[-2:2:50j,-2:2:50j]\n",
        "fmesh = f(np.array([xmesh, ymesh]))\n",
        "\n",
        "plt.axis(\"equal\")\n",
        "plt.contour(xmesh, ymesh, fmesh, 150)\n",
        "\n",
        "pts = np.array([pt for pt, val in res]).T\n",
        "plt.plot(pts[0], pts[1], \"ko-\")"
      ]
    },
    {
      "cell_type": "code",
      "execution_count": null,
      "metadata": {},
      "outputs": [],
      "source": []
    }
  ],
  "metadata": {
    "kernelspec": {
      "display_name": "Python 3 (ipykernel)",
      "language": "python",
      "name": "python3"
    },
    "language_info": {
      "codemirror_mode": {
        "name": "ipython",
        "version": 3
      },
      "file_extension": ".py",
      "mimetype": "text/x-python",
      "name": "python",
      "nbconvert_exporter": "python",
      "pygments_lexer": "ipython3",
      "version": "3.10.8"
    }
  },
  "nbformat": 4,
  "nbformat_minor": 4
}